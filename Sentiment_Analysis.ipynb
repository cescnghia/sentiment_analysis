{
 "cells": [
  {
   "cell_type": "code",
   "execution_count": 1,
   "metadata": {
    "collapsed": false
   },
   "outputs": [],
   "source": [
    "import warnings\n",
    "warnings.filterwarnings('ignore')\n",
    "import string\n",
    "import seaborn as sns\n",
    "import matplotlib.pyplot as plt\n",
    "import re\n",
    "import numpy as np\n",
    "import pandas as pd\n",
    "\n",
    "from sklearn import svm\n",
    "from sklearn import metrics\n",
    "from sklearn.model_selection import train_test_split\n",
    "from sklearn.feature_extraction.text import TfidfVectorizer\n",
    "\n",
    "import nltk\n",
    "from nltk import pos_tag\n",
    "from nltk.stem import WordNetLemmatizer\n",
    "from nltk.tokenize import RegexpTokenizer\n",
    "from nltk.corpus import wordnet, stopwords\n",
    "\n",
    "import time\n",
    "import pickle"
   ]
  },
  {
   "cell_type": "code",
   "execution_count": null,
   "metadata": {
    "collapsed": false
   },
   "outputs": [],
   "source": [
    "\"\"\"\n",
    "    RUN IF NEEDED\n",
    "\"\"\"\n",
    "\n",
    "nltk.download('stopwords')\n",
    "nltk.download('averaged_perceptron_tagger')\n",
    "nltk.download('wordnet')"
   ]
  },
  {
   "cell_type": "code",
   "execution_count": 2,
   "metadata": {
    "collapsed": true
   },
   "outputs": [],
   "source": [
    "def set_size(SIZE = 20):\n",
    "    \"\"\"\n",
    "        This function make label, legend, title of matplotlib.pyplot bigger (more readable)\n",
    "    \"\"\"\n",
    "    \n",
    "    plt.rc('font', size=SIZE)          # controls default text sizes\n",
    "    plt.rc('axes', titlesize=SIZE)     # fontsize of the axes title\n",
    "    plt.rc('axes', labelsize=SIZE)    # fontsize of the x and y labels\n",
    "    plt.rc('xtick', labelsize=SIZE)    # fontsize of the tick labels\n",
    "    plt.rc('ytick', labelsize=SIZE)    # fontsize of the tick labels\n",
    "    plt.rc('legend', fontsize=SIZE)    # legend fontsize\n",
    "    plt.rc('figure', titlesize=SIZE)"
   ]
  },
  {
   "cell_type": "markdown",
   "metadata": {},
   "source": [
    "# 1. Exploratory Data Analysis"
   ]
  },
  {
   "cell_type": "code",
   "execution_count": 3,
   "metadata": {
    "collapsed": false
   },
   "outputs": [
    {
     "name": "stdout",
     "output_type": "stream",
     "text": [
      "There are 10000 reviews\n"
     ]
    },
    {
     "data": {
      "text/html": [
       "<div>\n",
       "<style scoped>\n",
       "    .dataframe tbody tr th:only-of-type {\n",
       "        vertical-align: middle;\n",
       "    }\n",
       "\n",
       "    .dataframe tbody tr th {\n",
       "        vertical-align: top;\n",
       "    }\n",
       "\n",
       "    .dataframe thead th {\n",
       "        text-align: right;\n",
       "    }\n",
       "</style>\n",
       "<table border=\"1\" class=\"dataframe\">\n",
       "  <thead>\n",
       "    <tr style=\"text-align: right;\">\n",
       "      <th></th>\n",
       "      <th>stars</th>\n",
       "      <th>text</th>\n",
       "    </tr>\n",
       "  </thead>\n",
       "  <tbody>\n",
       "    <tr>\n",
       "      <th>0</th>\n",
       "      <td>5</td>\n",
       "      <td>My wife took me here on my birthday for breakf...</td>\n",
       "    </tr>\n",
       "    <tr>\n",
       "      <th>1</th>\n",
       "      <td>5</td>\n",
       "      <td>I have no idea why some people give bad review...</td>\n",
       "    </tr>\n",
       "    <tr>\n",
       "      <th>2</th>\n",
       "      <td>4</td>\n",
       "      <td>love the gyro plate. Rice is so good and I als...</td>\n",
       "    </tr>\n",
       "    <tr>\n",
       "      <th>3</th>\n",
       "      <td>5</td>\n",
       "      <td>Rosie, Dakota, and I LOVE Chaparral Dog Park!!...</td>\n",
       "    </tr>\n",
       "    <tr>\n",
       "      <th>4</th>\n",
       "      <td>5</td>\n",
       "      <td>General Manager Scott Petello is a good egg!!!...</td>\n",
       "    </tr>\n",
       "  </tbody>\n",
       "</table>\n",
       "</div>"
      ],
      "text/plain": [
       "   stars                                               text\n",
       "0      5  My wife took me here on my birthday for breakf...\n",
       "1      5  I have no idea why some people give bad review...\n",
       "2      4  love the gyro plate. Rice is so good and I als...\n",
       "3      5  Rosie, Dakota, and I LOVE Chaparral Dog Park!!...\n",
       "4      5  General Manager Scott Petello is a good egg!!!..."
      ]
     },
     "execution_count": 3,
     "metadata": {},
     "output_type": "execute_result"
    }
   ],
   "source": [
    "data = pd.read_csv('yelp.csv', usecols = ['text', 'stars'])\n",
    "print('There are {} reviews'.format(data.shape[0]))\n",
    "data.head()"
   ]
  },
  {
   "cell_type": "code",
   "execution_count": 4,
   "metadata": {
    "collapsed": false
   },
   "outputs": [
    {
     "name": "stdout",
     "output_type": "stream",
     "text": [
      "4\n",
      "----\n",
      "I have to admit that I find myself thinking that I like mine tall dark and Russian. \n",
      "\n",
      " It's nice to have a coffee shop near by that's not Starbucks, has good coffee and reasonable prices.  So far I just stick with the house brew (which is smooth and not too bitter yet not too sweet) since the fancy coffee drinks usually have many calories that I do not need!  I have tried the blueberry muffin-quite yummy as well as the chocolate chip cookies- delicious.  The cafe is attached to The Great Indoors so you can people watch, browse thru design books or take a leisurely stroll through the design center.  It's a great way to unwind or perk up on your choice of caffeinated beverage.\n"
     ]
    }
   ],
   "source": [
    "print(data.iloc[100]['stars'])\n",
    "print('----')\n",
    "print(data.iloc[100]['text'])"
   ]
  },
  {
   "cell_type": "code",
   "execution_count": 5,
   "metadata": {
    "collapsed": false
   },
   "outputs": [
    {
     "data": {
      "image/png": "[encoded data removed]",
      "text/plain": [
       "<Figure size 1080x504 with 1 Axes>"
      ]
     },
     "metadata": {},
     "output_type": "display_data"
    }
   ],
   "source": [
    "set_size()\n",
    "plt.subplots(figsize=(15,7))\n",
    "sns.set(style=\"darkgrid\")\n",
    "sns.countplot(x=data['stars'])\n",
    "plt.title('Ratings count')\n",
    "plt.show()"
   ]
  },
  {
   "cell_type": "markdown",
   "metadata": {},
   "source": [
    "* This is unbalanced dataset ! I didn't tackle this issue.\n",
    "* Since we want to do a sentiment classifier, I decided to drop 3-stars reviews and consider {1,2} star as negative review and {4,5} star as positive review."
   ]
  },
  {
   "cell_type": "code",
   "execution_count": 6,
   "metadata": {
    "collapsed": true
   },
   "outputs": [],
   "source": [
    "def filter_stars(star):\n",
    "    if star >= 4 : return 1\n",
    "    elif star <= 2 : return 0\n",
    "    else : return -1"
   ]
  },
  {
   "cell_type": "code",
   "execution_count": 7,
   "metadata": {
    "collapsed": false
   },
   "outputs": [
    {
     "name": "stdout",
     "output_type": "stream",
     "text": [
      "After filtering, there are 8539 reviews\n"
     ]
    }
   ],
   "source": [
    "data['label'] = data['stars'].map(filter_stars)\n",
    "data = data[data['label'] >= 0]\n",
    "data = data[['label', 'text']]\n",
    "\n",
    "print('After filtering, there are {} reviews'.format(data.shape[0]))"
   ]
  },
  {
   "cell_type": "code",
   "execution_count": 8,
   "metadata": {
    "collapsed": false
   },
   "outputs": [
    {
     "data": {
      "image/png": "[encoded data removed]",
      "text/plain": [
       "<Figure size 504x504 with 1 Axes>"
      ]
     },
     "metadata": {},
     "output_type": "display_data"
    }
   ],
   "source": [
    "set_size()\n",
    "plt.subplots(figsize=(7,7))\n",
    "sns.set(style=\"darkgrid\")\n",
    "sns.countplot(x=data['label'])\n",
    "plt.title('Ratings count')\n",
    "plt.show()"
   ]
  },
  {
   "cell_type": "code",
   "execution_count": 9,
   "metadata": {
    "collapsed": false
   },
   "outputs": [
    {
     "data": {
      "text/plain": [
       "1    0.803724\n",
       "0    0.196276\n",
       "Name: label, dtype: float64"
      ]
     },
     "execution_count": 9,
     "metadata": {},
     "output_type": "execute_result"
    }
   ],
   "source": [
    "data.label.value_counts(normalize=True)"
   ]
  },
  {
   "cell_type": "code",
   "execution_count": 10,
   "metadata": {
    "collapsed": true
   },
   "outputs": [],
   "source": [
    "\"Study length of reviews\"\n",
    "\n",
    "data['length'] = data['text'].map(lambda x : len(x.split()))"
   ]
  },
  {
   "cell_type": "code",
   "execution_count": 11,
   "metadata": {
    "collapsed": false
   },
   "outputs": [
    {
     "data": {
      "text/plain": [
       "count    8539.000000\n",
       "mean      129.384237\n",
       "std       113.054562\n",
       "min         1.000000\n",
       "25%        52.000000\n",
       "50%        99.000000\n",
       "75%       171.000000\n",
       "max       945.000000\n",
       "Name: length, dtype: float64"
      ]
     },
     "execution_count": 11,
     "metadata": {},
     "output_type": "execute_result"
    }
   ],
   "source": [
    "data.length.describe()"
   ]
  },
  {
   "cell_type": "markdown",
   "metadata": {},
   "source": [
    "The minimum length is 1 and the maximum one is 945. For this `simple` model, I decided to take the reviews which have the length between 10 and 300"
   ]
  },
  {
   "cell_type": "code",
   "execution_count": 12,
   "metadata": {
    "collapsed": false
   },
   "outputs": [
    {
     "name": "stdout",
     "output_type": "stream",
     "text": [
      "Before dropping, there are 8539 reviews\n",
      "After filtering, there are 7675 reviews\n"
     ]
    }
   ],
   "source": [
    "MIN_LENGTH = 10\n",
    "MAX_LENGTH = 300\n",
    "\n",
    "print('Before dropping, there are {} reviews'.format(data.shape[0]))\n",
    "\n",
    "data = data[(data['length']>=MIN_LENGTH) & (data['length']<=MAX_LENGTH)]\n",
    "\n",
    "print('After filtering, there are {} reviews'.format(data.shape[0]))"
   ]
  },
  {
   "cell_type": "code",
   "execution_count": 13,
   "metadata": {
    "collapsed": false
   },
   "outputs": [
    {
     "data": {
      "text/plain": [
       "1    0.812899\n",
       "0    0.187101\n",
       "Name: label, dtype: float64"
      ]
     },
     "execution_count": 13,
     "metadata": {},
     "output_type": "execute_result"
    }
   ],
   "source": [
    "data.label.value_counts(normalize=True)"
   ]
  },
  {
   "cell_type": "code",
   "execution_count": 14,
   "metadata": {
    "collapsed": true
   },
   "outputs": [],
   "source": [
    "def plot_term_frequency(df, col, n_terms):\n",
    "    set_size()\n",
    "    terms = []\n",
    "    for texts in df[col]:\n",
    "        for text in texts.split():\n",
    "            terms.append(text)\n",
    "\n",
    "    plt1 = pd.Series(terms).value_counts().sort_values(ascending=False)[:n_terms].to_frame()\n",
    "    sns.barplot(plt1[0],plt1.index,palette=sns.color_palette('inferno_r',n_terms))\n",
    "    plt.title('Top tags frequency')\n",
    "    fig=plt.gcf()\n",
    "    fig.set_size_inches(20,15)\n",
    "    plt.show()"
   ]
  },
  {
   "cell_type": "code",
   "execution_count": 15,
   "metadata": {
    "collapsed": false
   },
   "outputs": [
    {
     "data": {
      "image/png": "[encoded data removed]",
      "text/plain": [
       "<Figure size 1440x1080 with 1 Axes>"
      ]
     },
     "metadata": {},
     "output_type": "display_data"
    }
   ],
   "source": [
    "plot_term_frequency(data, 'text', n_terms=30)"
   ]
  },
  {
   "cell_type": "markdown",
   "metadata": {},
   "source": [
    "# 2. Preprocessing reviews"
   ]
  },
  {
   "cell_type": "markdown",
   "metadata": {},
   "source": [
    "* Since we do not have any GPU resources for training. I decided NOT to use any deep learning models like RNNs, LSTM, Transformer...\n",
    "* Thus, for preprocessing reviews, I apply traditional NLP techniques: Standardize, Tokenize, POS tagging, Stopwords removing."
   ]
  },
  {
   "cell_type": "code",
   "execution_count": 16,
   "metadata": {
    "collapsed": false
   },
   "outputs": [],
   "source": [
    "PUNCTUATION = string.punctuation\n",
    "\n",
    "RE_HASHTAG = r'#\\S+' #hashtags\n",
    "RE_AT = r'@\\S+'      #@\n",
    "RE_NB = \" \\d+\"       #numbers\n",
    "UNK = \"\"             "
   ]
  },
  {
   "cell_type": "code",
   "execution_count": 17,
   "metadata": {
    "collapsed": true
   },
   "outputs": [],
   "source": [
    "def standardize_text(sentence):\n",
    "    \"\"\"\n",
    "        Standardize sentence\n",
    "    \"\"\"\n",
    "    \n",
    "    sentence = sentence.replace(\"can't\", \"can not\").replace(\"n't\", \" not\")\\\n",
    "                       .replace(\"\\\\n\",\" \").replace(\"\\n\", \" \")\\\n",
    "                       .replace(\"\\'\", \" \").replace(\"-\",\" \")\\\n",
    "                       .replace(\"_\",\" \").replace('\"', \" \")\n",
    "    \n",
    "    for x in PUNCTUATION:\n",
    "        sentence = sentence.replace(x , \" \")\n",
    "    \n",
    "    sentence = re.sub(RE_HASHTAG, UNK, sentence)\n",
    "    sentence = re.sub(RE_AT     , UNK, sentence)\n",
    "    sentence = re.sub(RE_NB     , UNK, sentence)\n",
    "    \n",
    "    sentence = sentence.lower()\n",
    "    \n",
    "    return sentence"
   ]
  },
  {
   "cell_type": "code",
   "execution_count": 18,
   "metadata": {
    "collapsed": true
   },
   "outputs": [],
   "source": [
    "\"\"\"\n",
    "    POS - TAGGING\n",
    "\"\"\"\n",
    "\n",
    "def get_wordnet_pos(treebank_tag):\n",
    "    \"\"\"Map ['NN', 'NNS', 'NNP', 'NNPS'] to NOUN.....\"\"\"\n",
    "    if treebank_tag.startswith('J'):\n",
    "        return wordnet.ADJ\n",
    "    elif treebank_tag.startswith('V'):\n",
    "        return wordnet.VERB\n",
    "    elif treebank_tag.startswith('N'):\n",
    "        return wordnet.NOUN\n",
    "    elif treebank_tag.startswith('R'):\n",
    "        return wordnet.ADV\n",
    "    else:\n",
    "        return None"
   ]
  },
  {
   "cell_type": "code",
   "execution_count": 19,
   "metadata": {
    "collapsed": true
   },
   "outputs": [],
   "source": [
    "lemmatiser = WordNetLemmatizer()\n",
    "stop = stopwords.words('english')\n",
    "stop.remove('not')\n",
    "tokenizer = RegexpTokenizer(r'\\w+')\n",
    "\n",
    "def processing_sentence(sentence):\n",
    "    \n",
    "    \"Standardize\"\n",
    "    sentence = standardize_text(sentence)\n",
    "    \n",
    "    \"Tokenization\"\n",
    "    sentence = tokenizer.tokenize(sentence)\n",
    "    \n",
    "    \"Lemmatization\"\n",
    "    tokens_pos = pos_tag(sentence)\n",
    "    tokens_pos = [(w,get_wordnet_pos(p)) for (w,p) in tokens_pos]\n",
    "    sentence = [lemmatiser.lemmatize(w, pos=p) for (w,p) in tokens_pos if p != None]\n",
    "    \n",
    "    \"Stopwords removing\"\n",
    "    sentence = [x for x in sentence if x not in stop ]\n",
    "    \n",
    "    return ' '.join(sentence)"
   ]
  },
  {
   "cell_type": "code",
   "execution_count": 20,
   "metadata": {
    "collapsed": true
   },
   "outputs": [],
   "source": [
    "def processing_text(text):\n",
    "    new_sentences = ''\n",
    "    for sentence in text.split('.'):\n",
    "        new_sentences += processing_sentence(sentence)\n",
    "        new_sentences += ' '\n",
    "    return new_sentences"
   ]
  },
  {
   "cell_type": "code",
   "execution_count": 21,
   "metadata": {
    "collapsed": false
   },
   "outputs": [
    {
     "name": "stdout",
     "output_type": "stream",
     "text": [
      "Processed all text take 49.51225686073303 seconds\n"
     ]
    }
   ],
   "source": [
    "start_time = time.time()\n",
    "\n",
    "processed_text = []\n",
    "for i in range(data.shape[0]):\n",
    "    processed_text.append(processing_text(data.iloc[i]['text']))\n",
    "\n",
    "data['processed_text'] = processed_text\n",
    "\n",
    "print(\"Processed all text take {} seconds\".format(time.time() - start_time))"
   ]
  },
  {
   "cell_type": "code",
   "execution_count": 22,
   "metadata": {
    "collapsed": false
   },
   "outputs": [
    {
     "data": {
      "text/html": [
       "<div>\n",
       "<style scoped>\n",
       "    .dataframe tbody tr th:only-of-type {\n",
       "        vertical-align: middle;\n",
       "    }\n",
       "\n",
       "    .dataframe tbody tr th {\n",
       "        vertical-align: top;\n",
       "    }\n",
       "\n",
       "    .dataframe thead th {\n",
       "        text-align: right;\n",
       "    }\n",
       "</style>\n",
       "<table border=\"1\" class=\"dataframe\">\n",
       "  <thead>\n",
       "    <tr style=\"text-align: right;\">\n",
       "      <th></th>\n",
       "      <th>label</th>\n",
       "      <th>text</th>\n",
       "      <th>length</th>\n",
       "      <th>processed_text</th>\n",
       "    </tr>\n",
       "  </thead>\n",
       "  <tbody>\n",
       "    <tr>\n",
       "      <th>0</th>\n",
       "      <td>1</td>\n",
       "      <td>My wife took me here on my birthday for breakf...</td>\n",
       "      <td>155</td>\n",
       "      <td>wife take birthday breakfast excellent weather...</td>\n",
       "    </tr>\n",
       "    <tr>\n",
       "      <th>1</th>\n",
       "      <td>1</td>\n",
       "      <td>I have no idea why some people give bad review...</td>\n",
       "      <td>257</td>\n",
       "      <td>idea people give bad review place go show plea...</td>\n",
       "    </tr>\n",
       "    <tr>\n",
       "      <th>2</th>\n",
       "      <td>1</td>\n",
       "      <td>love the gyro plate. Rice is so good and I als...</td>\n",
       "      <td>16</td>\n",
       "      <td>love gyro plate rice good also dig candy selec...</td>\n",
       "    </tr>\n",
       "    <tr>\n",
       "      <th>3</th>\n",
       "      <td>1</td>\n",
       "      <td>Rosie, Dakota, and I LOVE Chaparral Dog Park!!...</td>\n",
       "      <td>76</td>\n",
       "      <td>rosie dakota love chaparral dog park convenien...</td>\n",
       "    </tr>\n",
       "    <tr>\n",
       "      <th>4</th>\n",
       "      <td>1</td>\n",
       "      <td>General Manager Scott Petello is a good egg!!!...</td>\n",
       "      <td>86</td>\n",
       "      <td>general manager scott petello good egg not go ...</td>\n",
       "    </tr>\n",
       "  </tbody>\n",
       "</table>\n",
       "</div>"
      ],
      "text/plain": [
       "   label                                               text  length  \\\n",
       "0      1  My wife took me here on my birthday for breakf...     155   \n",
       "1      1  I have no idea why some people give bad review...     257   \n",
       "2      1  love the gyro plate. Rice is so good and I als...      16   \n",
       "3      1  Rosie, Dakota, and I LOVE Chaparral Dog Park!!...      76   \n",
       "4      1  General Manager Scott Petello is a good egg!!!...      86   \n",
       "\n",
       "                                      processed_text  \n",
       "0  wife take birthday breakfast excellent weather...  \n",
       "1  idea people give bad review place go show plea...  \n",
       "2  love gyro plate rice good also dig candy selec...  \n",
       "3  rosie dakota love chaparral dog park convenien...  \n",
       "4  general manager scott petello good egg not go ...  "
      ]
     },
     "execution_count": 22,
     "metadata": {},
     "output_type": "execute_result"
    }
   ],
   "source": [
    "data.head()"
   ]
  },
  {
   "cell_type": "code",
   "execution_count": 23,
   "metadata": {
    "collapsed": false
   },
   "outputs": [
    {
     "name": "stdout",
     "output_type": "stream",
     "text": [
      "I have had a great experience every time I have been there.  The food is hard to beat and the service was pleasant.  \n",
      "\n",
      "Portions are reasonable, not huge (I'm a big feller), and I was satified every time I ate there.  \n",
      "\n",
      "Very pleasant environment, clean, spacious and calm.\n",
      "----------------------------------------\n",
      "----------------------------------------\n",
      "----------------------------------------\n",
      "great experience time food hard beat service pleasant portion reasonable not huge big feller satified time eat pleasant environment clean spacious calm  \n"
     ]
    }
   ],
   "source": [
    "\"\"\"\n",
    "    EXAMPLE\n",
    "\"\"\"\n",
    "\n",
    "print(data.iloc[100]['text'])\n",
    "\n",
    "\n",
    "print('----------------------------------------')\n",
    "print('----------------------------------------')\n",
    "print('----------------------------------------')\n",
    "\n",
    "\n",
    "print(data.iloc[100]['processed_text'])"
   ]
  },
  {
   "cell_type": "code",
   "execution_count": 24,
   "metadata": {
    "collapsed": false
   },
   "outputs": [
    {
     "data": {
      "image/png": "[encoded data removed]",
      "text/plain": [
       "<Figure size 1440x1080 with 1 Axes>"
      ]
     },
     "metadata": {},
     "output_type": "display_data"
    }
   ],
   "source": [
    "plot_term_frequency(data, 'processed_text', n_terms=30)"
   ]
  },
  {
   "cell_type": "markdown",
   "metadata": {},
   "source": [
    "# 3. Feature generating and Modeling"
   ]
  },
  {
   "cell_type": "code",
   "execution_count": 25,
   "metadata": {
    "collapsed": true
   },
   "outputs": [],
   "source": [
    "\"Data spliting\"\n",
    "\n",
    "train, test = train_test_split(data, test_size=0.2)"
   ]
  },
  {
   "cell_type": "code",
   "execution_count": 26,
   "metadata": {
    "collapsed": true
   },
   "outputs": [],
   "source": [
    "\"\"\"\n",
    "    Choose TFIDF as feature for reviews. \n",
    "    Consider only words that appear in at least 3 reviews\n",
    "\n",
    "\"\"\"\n",
    "tfidf_vectorizer = TfidfVectorizer(min_df=3)"
   ]
  },
  {
   "cell_type": "code",
   "execution_count": 27,
   "metadata": {
    "collapsed": false
   },
   "outputs": [
    {
     "data": {
      "text/plain": [
       "((6140, 6612), (1535, 6612))"
      ]
     },
     "execution_count": 27,
     "metadata": {},
     "output_type": "execute_result"
    }
   ],
   "source": [
    "train_tfidf = tfidf_vectorizer.fit_transform(train['processed_text'])\n",
    "test_tfidf = tfidf_vectorizer.transform(test['processed_text'])\n",
    "\n",
    "train_tfidf.shape, test_tfidf.shape"
   ]
  },
  {
   "cell_type": "markdown",
   "metadata": {},
   "source": [
    "* train_tfidf: matrix of 6140 reviews and 6657 words (vocabulary size)\n",
    "* test_tfidf:  matrix of 1535 reviews and 6657 words"
   ]
  },
  {
   "cell_type": "code",
   "execution_count": 28,
   "metadata": {
    "collapsed": false
   },
   "outputs": [
    {
     "data": {
      "text/plain": [
       "['aa',\n",
       " 'aaron',\n",
       " 'ab',\n",
       " 'abandon',\n",
       " 'ability',\n",
       " 'able',\n",
       " 'aboutam',\n",
       " 'aboutpm',\n",
       " 'absent',\n",
       " 'absolute',\n",
       " 'absolutely',\n",
       " 'absurd',\n",
       " 'abuelo',\n",
       " 'abundance',\n",
       " 'ac']"
      ]
     },
     "execution_count": 28,
     "metadata": {},
     "output_type": "execute_result"
    }
   ],
   "source": [
    "\"Vocabulary\"\n",
    "\n",
    "tfidf_vectorizer.get_feature_names()[:15]"
   ]
  },
  {
   "cell_type": "markdown",
   "metadata": {
    "collapsed": false
   },
   "source": [
    "### Support vector machine model"
   ]
  },
  {
   "cell_type": "code",
   "execution_count": 29,
   "metadata": {
    "collapsed": false
   },
   "outputs": [
    {
     "data": {
      "text/plain": [
       "SVC(C=1.0, cache_size=200, class_weight=None, coef0=0.0,\n",
       "  decision_function_shape='ovr', degree=3, gamma='auto_deprecated',\n",
       "  kernel='linear', max_iter=-1, probability=False, random_state=None,\n",
       "  shrinking=True, tol=0.001, verbose=False)"
      ]
     },
     "execution_count": 29,
     "metadata": {},
     "output_type": "execute_result"
    }
   ],
   "source": [
    "cls = svm.SVC(kernel='linear')\n",
    "cls.fit(train_tfidf, train['label'])"
   ]
  },
  {
   "cell_type": "code",
   "execution_count": 30,
   "metadata": {
    "collapsed": false
   },
   "outputs": [],
   "source": [
    "y_pred = cls.predict(test_tfidf)"
   ]
  },
  {
   "cell_type": "code",
   "execution_count": 31,
   "metadata": {
    "collapsed": false
   },
   "outputs": [
    {
     "name": "stdout",
     "output_type": "stream",
     "text": [
      "Accuracy: 0.9166123778501629\n",
      "Precision: 0.9254518072289156\n",
      "Recall: 0.9769475357710652\n",
      "F1: 0.9505027068832173\n"
     ]
    }
   ],
   "source": [
    "print(\"Accuracy:\", metrics.accuracy_score (test['label'], y_pred))\n",
    "print(\"Precision:\",metrics.precision_score(test['label'], y_pred))\n",
    "print(\"Recall:\",   metrics.recall_score   (test['label'], y_pred))\n",
    "print(\"F1:\",       metrics.f1_score   (test['label'], y_pred))"
   ]
  },
  {
   "cell_type": "markdown",
   "metadata": {},
   "source": [
    "Since we have an unbalanced dataset. It's is better to user AUC metric"
   ]
  },
  {
   "cell_type": "code",
   "execution_count": 32,
   "metadata": {
    "collapsed": false
   },
   "outputs": [
    {
     "name": "stdout",
     "output_type": "stream",
     "text": [
      "AUC: 0.8097734068747023\n"
     ]
    }
   ],
   "source": [
    "print(\"AUC:\", metrics.roc_auc_score(test['label'], y_pred))"
   ]
  },
  {
   "cell_type": "code",
   "execution_count": 33,
   "metadata": {
    "collapsed": true
   },
   "outputs": [],
   "source": [
    "def get_sentiment(sentence):\n",
    "    processed_sentence = processing_text(sentence)\n",
    "    tfidf = tfidf_vectorizer.transform([processed_sentence])\n",
    "    return cls.predict(tfidf)[0]"
   ]
  },
  {
   "cell_type": "code",
   "execution_count": 34,
   "metadata": {
    "collapsed": false
   },
   "outputs": [
    {
     "data": {
      "text/plain": [
       "0"
      ]
     },
     "execution_count": 34,
     "metadata": {},
     "output_type": "execute_result"
    }
   ],
   "source": [
    "TEST = \"This a is bad place to eat\"\n",
    "\n",
    "get_sentiment(TEST)"
   ]
  },
  {
   "cell_type": "code",
   "execution_count": 35,
   "metadata": {
    "collapsed": false
   },
   "outputs": [
    {
     "data": {
      "text/plain": [
       "1"
      ]
     },
     "execution_count": 35,
     "metadata": {},
     "output_type": "execute_result"
    }
   ],
   "source": [
    "TEST = \"This a is good place to eat\"\n",
    "\n",
    "get_sentiment(TEST)"
   ]
  },
  {
   "cell_type": "code",
   "execution_count": 36,
   "metadata": {
    "collapsed": false
   },
   "outputs": [
    {
     "data": {
      "text/plain": [
       "0"
      ]
     },
     "execution_count": 36,
     "metadata": {},
     "output_type": "execute_result"
    }
   ],
   "source": [
    "TEST = \"I do not like this place\"\n",
    "\n",
    "get_sentiment(TEST)"
   ]
  },
  {
   "cell_type": "code",
   "execution_count": 37,
   "metadata": {
    "collapsed": false
   },
   "outputs": [],
   "source": [
    "\"\"\"\n",
    "    Save models\n",
    "\"\"\"\n",
    "\n",
    "CLASSIFIER_MODEL = 'flask-app/models/cls.pickle'\n",
    "TFIDF_VECTORIZER = 'flask-app/models/tfidf.pickle'\n",
    "\n",
    "pickle.dump(cls, open(CLASSIFIER_MODEL, 'wb'))\n",
    "pickle.dump(tfidf_vectorizer, open(TFIDF_VECTORIZER, 'wb'))"
   ]
  },
  {
   "cell_type": "code",
   "execution_count": null,
   "metadata": {
    "collapsed": true
   },
   "outputs": [],
   "source": []
  }
 ],
 "metadata": {
  "kernelspec": {
   "display_name": "Python 3",
   "language": "python",
   "name": "python3"
  },
  "language_info": {
   "codemirror_mode": {
    "name": "ipython",
    "version": 3
   },
   "file_extension": ".py",
   "mimetype": "text/x-python",
   "name": "python",
   "nbconvert_exporter": "python",
   "pygments_lexer": "ipython3",
   "version": "3.6.8"
  }
 },
 "nbformat": 4,
 "nbformat_minor": 2
}
